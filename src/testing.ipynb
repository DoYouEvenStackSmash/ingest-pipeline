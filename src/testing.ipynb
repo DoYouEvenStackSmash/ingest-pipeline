{
 "cells": [
  {
   "cell_type": "code",
   "execution_count": 5,
   "metadata": {},
   "outputs": [
    {
     "name": "stdout",
     "output_type": "stream",
     "text": [
      "tensor([[71],\n",
      "        [61]])\n",
      "2\n",
      "[[0.01169951 0.01211002 0.00061576 0.01313629 0.01559934 0.01477833\n",
      "  0.00697865 0.01395731 0.00554187 0.01313629]\n",
      " [0.00595238 0.01642036 0.00348933 0.00082102 0.01190476 0.01272578\n",
      "  0.01929392 0.0090312  0.00143678 0.00369458]\n",
      " [0.01334154 0.0203202  0.00964696 0.01929392 0.00759442 0.0135468\n",
      "  0.01724138 0.00348933 0.011289   0.0090312 ]\n",
      " [0.01888341 0.00348933 0.01662561 0.00656814 0.01067324 0.00328407\n",
      "  0.01252053 0.00862069 0.01457307 0.00882594]\n",
      " [0.01847291 0.01785714 0.01375205 0.01252053 0.00595238 0.01313629\n",
      "  0.01375205 0.00923645 0.00779967 0.00082102]\n",
      " [0.01744663 0.01313629 0.00964696 0.01559934 0.00615764 0.00759442\n",
      "  0.00882594 0.00082102 0.01046798 0.00123153]\n",
      " [0.01067324 0.00656814 0.00369458 0.00348933 0.00574713 0.02052545\n",
      "  0.01190476 0.00923645 0.00554187 0.0090312 ]\n",
      " [0.00389984 0.01949918 0.01231527 0.01252053 0.00102627 0.00841544\n",
      "  0.00205255 0.00143678 0.00082102 0.01970443]\n",
      " [0.01970443 0.00841544 0.00656814 0.00636289 0.01231527 0.01908867\n",
      "  0.00574713 0.0090312  0.00554187 0.0203202 ]\n",
      " [0.01046798 0.00800493 0.00574713 0.01416256 0.011289   0.0090312\n",
      "  0.00143678 0.01211002 0.01908867 0.00205255]]\n"
     ]
    }
   ],
   "source": [
    "import jax\n",
    "import jax.numpy as jnp\n",
    "import torch\n",
    "mat1 = torch.randint(0, 101, (2, 1))\n",
    "weights = jnp.array(torch.randint(0, 101, (10, 10)).numpy())\n",
    "weights2 = jnp.array(torch.randint(0, 101, (10, 10)).numpy())\n",
    "mat2 = torch.tensor(1)\n",
    "print(mat1)\n",
    "jax_array = jnp.array(mat1.numpy())\n",
    "start_center = jax.random.randint(key=jax.random.PRNGKey(0), minval=0, maxval=100, shape=())\n",
    "print(start_center)\n",
    "\n",
    "total_w = weights / jnp.sum(weights)\n",
    "print(total_w)\n",
    "print(jnp.linalg.norm(weights - weights2))"
   ]
  }
 ],
 "metadata": {
  "kernelspec": {
   "display_name": "Python 3 (ipykernel)",
   "language": "python",
   "name": "python3"
  },
  "language_info": {
   "codemirror_mode": {
    "name": "ipython",
    "version": 3
   },
   "file_extension": ".py",
   "mimetype": "text/x-python",
   "name": "python",
   "nbconvert_exporter": "python",
   "pygments_lexer": "ipython3",
   "version": "3.10.12"
  }
 },
 "nbformat": 4,
 "nbformat_minor": 2
}
